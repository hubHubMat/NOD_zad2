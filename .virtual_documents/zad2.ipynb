


import pandas as pd
import numpy as np

# Wczytaj dane z pliku CSV
df = pd.read_csv("data.csv")

# Zamiana wartości "brak" na 0 w jedenastej kolumnie
df.iloc[:, 3] = pd.to_numeric(df.iloc[:, 10].replace("brak", 0), errors='coerce').fillna(0)
df.iloc[:, 10] = pd.to_numeric(df.iloc[:, 10].replace("brak", 0), errors='coerce').fillna(0)


print(df)


print(df['wmn_hh'])





mean = np.mean (df['wmn_hh'])
print(mean)





median = np.median(df['wmn_hh'])
print(median)





stddev = np.std(df['wmn_hh'])
print(stddev)






variance = np.var(df['wmn_hh'])
print (variance)





data1 = [ 1 , 2 , 3 , 4 , 5 ]
data2 = [ 5 , 4 , 3 , 2 , 1 ]
correlation = np.corrcoef(data1 ,data2 ) [0,1]
print(correlation)



Kowariancja (Covariance)



covariance = np.cov (data1, data2) [0, 1]
print (covariance)
