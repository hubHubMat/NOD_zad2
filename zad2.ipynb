{
 "cells": [
  {
   "cell_type": "markdown",
   "id": "165a249f-5e16-4bc7-ad7e-17c0c137164f",
   "metadata": {},
   "source": [
    "Zadanie 2"
   ]
  },
  {
   "cell_type": "code",
   "execution_count": 2,
   "id": "b8501c2d-d03a-4043-8f2c-86f7000f6707",
   "metadata": {},
   "outputs": [
    {
     "name": "stdout",
     "output_type": "stream",
     "text": [
      "             observation_id               submitted_time  gender   age  \\\n",
      "0      wmn_4503683847159808  2020-07-09 23:19:01.982 UTC  Female   3.0   \n",
      "1      wmn_4503772699295744  2020-07-09 21:22:15.864 UTC  Female  13.0   \n",
      "2      wmn_4504010469146624  2020-07-10 05:09:07.359 UTC  Female   5.0   \n",
      "3      wmn_4504035500752896   2020-07-11 16:59:49.85 UTC  Female   7.0   \n",
      "4      wmn_4504181395423232  2020-07-11 18:43:35.954 UTC  Female   3.0   \n",
      "...                     ...                          ...     ...   ...   \n",
      "12349  wmn_6754210441068544  2020-07-16 15:46:12.095 UTC  Female   7.0   \n",
      "12350  wmn_6754415891709952  2020-07-10 09:57:24.863 UTC  Female   3.0   \n",
      "12351  wmn_6754483574145024  2020-07-19 17:50:01.295 UTC  Female   4.0   \n",
      "12352  wmn_6755256899993600   2020-07-11 16:09:09.78 UTC  Female   4.0   \n",
      "12353  wmn_6755376524689408  2020-07-17 03:19:00.388 UTC  Female   3.0   \n",
      "\n",
      "                              geography  \\\n",
      "0      City center or metropolitan area   \n",
      "1                                 Rural   \n",
      "2                                 Rural   \n",
      "3                   Suburban/Peri-urban   \n",
      "4                   Suburban/Peri-urban   \n",
      "...                                 ...   \n",
      "12349               Suburban/Peri-urban   \n",
      "12350  City center or metropolitan area   \n",
      "12351  City center or metropolitan area   \n",
      "12352                             Rural   \n",
      "12353  City center or metropolitan area   \n",
      "\n",
      "                                     financial_situation  \\\n",
      "0              I cannot afford enough food for my family   \n",
      "1              I cannot afford enough food for my family   \n",
      "2                    I can afford food, but nothing else   \n",
      "3      I can afford food and regular expenses, and bu...   \n",
      "4      I can afford food and regular expenses, and bu...   \n",
      "...                                                  ...   \n",
      "12349  I can afford food and regular expenses, but no...   \n",
      "12350  I can afford food and regular expenses, but no...   \n",
      "12351  I can afford food and regular expenses, but no...   \n",
      "12352  I can comfortably afford food, clothes, and fu...   \n",
      "12353  I can afford food and regular expenses, and bu...   \n",
      "\n",
      "                   education   employment_status           ethnicity  \\\n",
      "0      College or university          Unemployed             Mestizo   \n",
      "1      Secondary/high school             Student             Tagalog   \n",
      "2      College or university             Student          Hiligaynon   \n",
      "3      College or university          Unemployed                Thai   \n",
      "4      College or university  Employed full-time             African   \n",
      "...                      ...                 ...                 ...   \n",
      "12349  College or university          Unemployed             African   \n",
      "12350  Secondary/high school       Self-employed                 Kru   \n",
      "12351       Technical school          Unemployed  Non-hispanic White   \n",
      "12352  College or university       Self-employed                Thai   \n",
      "12353  Secondary/high school  Employed full-time             Mestizo   \n",
      "\n",
      "                   religion  ... wmn_pre_safe_place wmn_post_safe_place  \\\n",
      "0               Catholicism  ...                NaN                 NaN   \n",
      "1                    Muslim  ...                NaN                 NaN   \n",
      "2              Christianity  ...                NaN                 NaN   \n",
      "3                  Buddhism  ...                NaN                 NaN   \n",
      "4              Christianity  ...                NaN                 NaN   \n",
      "...                     ...  ...                ...                 ...   \n",
      "12349                Muslim  ...                NaN                 NaN   \n",
      "12350           Catholicism  ...                NaN                 NaN   \n",
      "12351  Prefer Not To Answer  ...          Every day              Rarely   \n",
      "12352              Buddhism  ...                NaN                 NaN   \n",
      "12353           Catholicism  ...                NaN                 NaN   \n",
      "\n",
      "      wmn_safe_place_no_access wmn_safe_place_no_access_why wmn_pre_help  \\\n",
      "0                          NaN                          NaN          NaN   \n",
      "1                          NaN                          NaN          NaN   \n",
      "2                          NaN                          NaN          NaN   \n",
      "3                          NaN                          NaN          NaN   \n",
      "4                          NaN                          NaN          NaN   \n",
      "...                        ...                          ...          ...   \n",
      "12349                      NaN                          NaN          NaN   \n",
      "12350                      NaN                          NaN          NaN   \n",
      "12351                       No                          NaN          Yes   \n",
      "12352                      NaN                          NaN          NaN   \n",
      "12353                      NaN                          NaN          NaN   \n",
      "\n",
      "      wmn_post_help wmn_post_no_help    wmn_no_help_why  \\\n",
      "0               NaN              NaN                NaN   \n",
      "1               NaN              NaN                NaN   \n",
      "2               NaN              NaN                NaN   \n",
      "3               NaN              NaN                NaN   \n",
      "4               NaN              NaN                NaN   \n",
      "...             ...              ...                ...   \n",
      "12349           NaN              NaN                NaN   \n",
      "12350           NaN              NaN                NaN   \n",
      "12351           Yes              Yes  Decline to Answer   \n",
      "12352           NaN              NaN                NaN   \n",
      "12353           NaN              NaN                NaN   \n",
      "\n",
      "                           country               user_id  \n",
      "0                          Ecuador  wmn_5900473574883328  \n",
      "1                      Philippines  wmn_5702261783658496  \n",
      "2                      Philippines  wmn_5652767014387712  \n",
      "3                         Thailand  wmn_6411372690669568  \n",
      "4      United Republic of Tanzania  wmn_6215734184378368  \n",
      "...                            ...                   ...  \n",
      "12349  United Republic of Tanzania  wmn_6151550260215808  \n",
      "12350                  Ivory Coast  wmn_5222308327456768  \n",
      "12351                United States  wmn_4706368994148352  \n",
      "12352                     Thailand  wmn_6730228637892608  \n",
      "12353                      Ecuador  wmn_6585614141489152  \n",
      "\n",
      "[12354 rows x 46 columns]\n"
     ]
    }
   ],
   "source": [
    "import pandas as pd\n",
    "import numpy as np\n",
    "\n",
    "# Wczytaj dane z pliku CSV\n",
    "df = pd.read_csv(\"data.csv\")\n",
    "\n",
    "# Zamiana wartości \"brak\" na 0 w jedenastej kolumnie\n",
    "df.iloc[:, 3] = pd.to_numeric(df.iloc[:, 10].replace(\"brak\", 0), errors='coerce').fillna(0)\n",
    "df.iloc[:, 10] = pd.to_numeric(df.iloc[:, 10].replace(\"brak\", 0), errors='coerce').fillna(0)\n",
    "\n",
    "\n",
    "print(df)"
   ]
  },
  {
   "cell_type": "code",
   "execution_count": 3,
   "id": "0d73490b-0a6b-44da-b4af-89223d0c8972",
   "metadata": {},
   "outputs": [
    {
     "name": "stdout",
     "output_type": "stream",
     "text": [
      "0         3.0\n",
      "1        13.0\n",
      "2         5.0\n",
      "3         7.0\n",
      "4         3.0\n",
      "         ... \n",
      "12349     7.0\n",
      "12350     3.0\n",
      "12351     4.0\n",
      "12352     4.0\n",
      "12353     3.0\n",
      "Name: wmn_hh, Length: 12354, dtype: object\n"
     ]
    }
   ],
   "source": [
    "print(df['wmn_hh'])"
   ]
  },
  {
   "cell_type": "markdown",
   "id": "3acef51e-ad52-433a-9d83-94ca93838fdd",
   "metadata": {},
   "source": [
    "\n",
    "Srednia arytmetyczna (Mean)\n"
   ]
  },
  {
   "cell_type": "code",
   "execution_count": 5,
   "id": "46036581-35a8-415d-b3d1-2b342fa6bb8e",
   "metadata": {},
   "outputs": [
    {
     "name": "stdout",
     "output_type": "stream",
     "text": [
      "4.344260968107496\n"
     ]
    }
   ],
   "source": [
    "mean = np.mean (df['wmn_hh'])\n",
    "print(mean)"
   ]
  },
  {
   "cell_type": "markdown",
   "id": "a7868bc7-8703-4c0a-b4ff-c761e5ed84a9",
   "metadata": {},
   "source": [
    "\n",
    "Mediana (Median)\n"
   ]
  },
  {
   "cell_type": "code",
   "execution_count": 9,
   "id": "62bd020d-6fab-49e4-93f1-1efb72ba53a7",
   "metadata": {},
   "outputs": [
    {
     "name": "stdout",
     "output_type": "stream",
     "text": [
      "4.0\n"
     ]
    }
   ],
   "source": [
    "median = np.median(df['wmn_hh'])\n",
    "print(median)"
   ]
  },
  {
   "cell_type": "markdown",
   "id": "8e4ad58e-ca54-4036-9422-449767d1f996",
   "metadata": {},
   "source": [
    "\n",
    "Odchylenie standardowe (Standard Deviation)\n"
   ]
  },
  {
   "cell_type": "code",
   "execution_count": null,
   "id": "dafcc4a2-0848-44e9-8290-3f782b24fc39",
   "metadata": {},
   "outputs": [],
   "source": [
    "stddev = np.std(df['wmn_hh'])\n",
    "print(stddev)\n"
   ]
  },
  {
   "cell_type": "markdown",
   "id": "24f57937-1dee-4557-a5a5-b73e2935e792",
   "metadata": {},
   "source": [
    "\n",
    "Wariancja (Variance)\n"
   ]
  },
  {
   "cell_type": "code",
   "execution_count": null,
   "id": "a9a69f88-5d41-41ec-995b-fa4a8a05bc17",
   "metadata": {},
   "outputs": [],
   "source": [
    "variance = np.var(df['wmn_hh'])\n",
    "print (variance)"
   ]
  },
  {
   "cell_type": "markdown",
   "id": "460202f7-adce-40ad-a0d4-47355b9f9697",
   "metadata": {},
   "source": [
    "\n",
    " Korelacja (Correlation)\n"
   ]
  },
  {
   "cell_type": "code",
   "execution_count": null,
   "id": "da3a5930-164a-416e-bf29-b07b4b380b19",
   "metadata": {},
   "outputs": [],
   "source": [
    "data1 = [ 1 , 2 , 3 , 4 , 5 ]\n",
    "data2 = [ 5 , 4 , 3 , 2 , 1 ]\n",
    "correlation = np.corrcoef(data1 ,data2 ) [0,1]\n",
    "print(correlation)"
   ]
  },
  {
   "cell_type": "code",
   "execution_count": null,
   "id": "7ffbef55-ac29-4be4-9943-c1e57e0b604a",
   "metadata": {},
   "outputs": [],
   "source": [
    "\n",
    "Kowariancja (Covariance)\n"
   ]
  },
  {
   "cell_type": "code",
   "execution_count": null,
   "id": "ac4072bb-c36d-4454-b3c4-3084bc3c82f7",
   "metadata": {},
   "outputs": [],
   "source": [
    "covariance = np.cov (data1, data2) [0, 1]\n",
    "print (covariance)"
   ]
  }
 ],
 "metadata": {
  "kernelspec": {
   "display_name": "Python 3 (ipykernel)",
   "language": "python",
   "name": "python3"
  },
  "language_info": {
   "codemirror_mode": {
    "name": "ipython",
    "version": 3
   },
   "file_extension": ".py",
   "mimetype": "text/x-python",
   "name": "python",
   "nbconvert_exporter": "python",
   "pygments_lexer": "ipython3",
   "version": "3.12.7"
  }
 },
 "nbformat": 4,
 "nbformat_minor": 5
}
